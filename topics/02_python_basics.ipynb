{
 "cells": [
  {
   "cell_type": "markdown",
   "metadata": {},
   "source": [
    "# Basics in Python\n",
    "* as we remember, python is an interpreted programming language without compiler building process\n",
    "* python is a multiparadigm language, everything is possible --- but overall its working like an object oriented programming language\n",
    "* datatypes are dynamically handled"
   ]
  },
  {
   "cell_type": "markdown",
   "metadata": {},
   "source": [
    "## more datatypes\n",
    "lets have a look at a few more datatypes and special datatypes"
   ]
  },
  {
   "cell_type": "code",
   "execution_count": 1,
   "metadata": {},
   "outputs": [
    {
     "name": "stdout",
     "output_type": "stream",
     "text": [
      "<class 'int'> <class 'float'> <class 'str'> <class 'bool'>\n"
     ]
    }
   ],
   "source": [
    "# as we remember we dont need to clarify a datatype of a variable\n",
    "\n",
    "my_number = 42 # is automatically interpreted as integer\n",
    "# expert knowledge: we generate a object variable from the builtin class Integer it is possible to use functions from Integer class\n",
    "\n",
    "my_float_number = 42.42 # with the dot identifier it is possible to create floating numbers this variable is interpreted as float\n",
    "\n",
    "my_text = \"example text\" # this variable is interpreted as string\n",
    "# expert knowledge: a string is a chain of chars (list of chars) char is the simple datatype, string is a complex char datatype\n",
    "\n",
    "my_boolean = True # this variable is interpreted as boolean\n",
    "\n",
    "# to show the datatype of our variable we can use the builtinfunction type() inside a print statement\n",
    "\n",
    "print(type(my_number), type(my_float_number), type(my_text), type(my_boolean))"
   ]
  },
  {
   "cell_type": "markdown",
   "metadata": {},
   "source": [
    "As we see in the printout all datatypes are types of classes, that means every datatype comes with class functions. We will see later in this training how this work"
   ]
  },
  {
   "cell_type": "code",
   "execution_count": 2,
   "metadata": {},
   "outputs": [
    {
     "name": "stdout",
     "output_type": "stream",
     "text": [
      "42 <class 'int'> \n",
      " 42 <class 'int'> \n",
      " 42.0 <class 'float'> \n",
      " 42 <class 'str'> \n",
      " True <class 'bool'> \n",
      " True <class 'bool'> \n",
      " False <class 'bool'>\n"
     ]
    }
   ],
   "source": [
    "# in some programs it is possible to enforce a datatype\n",
    "# because of dynamically handling of datatype variables it could happen that python will change a variable type during program runtime\n",
    "# in case of datatype changing in special programs, error could appear\n",
    "# to enforce a datatype we use signal words (builtin functions)\n",
    "\n",
    "my_variable_1 = int(42) # this variable is an integer\n",
    "my_variable_2 = int(42.42) # also an integer the floating point part will be delete\n",
    "my_variable_3 = float(42) # floating point datatype\n",
    "my_variable_4 = str(42) # a number as a string datatype\n",
    "my_variable_5 = bool(42) # a boolean datatype if the number is > 0 its always true in Python Boolean statements are True or False (case-sensitive)\n",
    "my_variable_6 = bool(\" \") # whitespace string is True --> behind a whitespace is a character ascii sign which is a True context\n",
    "my_variable_7 = bool(\"\") # empty string is always False\n",
    "\n",
    "\n",
    "print(  my_variable_1, type(my_variable_1), \"\\n\",\n",
    "        my_variable_2, type(my_variable_2), \"\\n\",\n",
    "        my_variable_3, type(my_variable_3), \"\\n\",\n",
    "        my_variable_4, type(my_variable_4), \"\\n\",\n",
    "        my_variable_5, type(my_variable_5), \"\\n\",\n",
    "        my_variable_6, type(my_variable_6), \"\\n\",\n",
    "        my_variable_7, type(my_variable_7) )"
   ]
  },
  {
   "cell_type": "code",
   "execution_count": 3,
   "metadata": {},
   "outputs": [],
   "source": [
    "# the naming of a variable does have a huge variance\n",
    "# it is possible to use \"_\" underline signs between words \n",
    "# the possible variable naming styles are:\n",
    "# --> camelCase\n",
    "# --> PascalCase\n",
    "# --> snake_case\n",
    "# it is also possible to use numbers inside a variable name but not for the first sign\n",
    "# the first variable letter need to be an underline or a normal letter\n",
    "# reserved functions or special signs are not allowed\n",
    "# if u using a reserved function (built-in) or reserved word (str, int, ...) u overwrite the functionallity --- this will devastate your program\n",
    "# during development most of all programmer using temporary variable names, in production code we need to keep the topic information for our variable\n",
    "# because of nearly no limitation for the variable name i prefer to use snake_case with lower letter with descritpion of the variable topic\n",
    "\n",
    "# if the variable does have the topic to keep a sensor gps signal frame we call the variable name\n",
    "my_gps_sensor_frame = \"some gps sensor data\" # gps could have diferent datatypes but this is not the topic at the moment\n",
    "\n",
    "# some developer keep the datatype inside the variable also\n",
    "str_my_gps_sensor_frame = \"...\" # depends on you how to style your variables\n",
    "\n",
    "# capital letter variables are normally cons inside a program\n",
    "MY_AWESOME_CIRCLE_CONSTANT = 3.1415 # short form of Pi for calculation\n",
    "WINDOW_WIDTH = 640   # window size paramter in guis\n",
    "WINDOW_HEIGHT = 480  # window size paramter in guis\n",
    "\n",
    "# sometimes we dont know how to store or use a variable\n",
    "# in such a case it is possible to use a placeholder variable instead of a complete variable name\n",
    "# the common placeholder for variables is \"_\"\n",
    "_ = \"dont like to use a this variable\"\n",
    "\n",
    "# in python it is also possible to use multiple variable allocations\n",
    "var_1 = var_2 = var_3 = 42 # all 3 variables are integer with value of 42\n"
   ]
  },
  {
   "cell_type": "code",
   "execution_count": 4,
   "metadata": {},
   "outputs": [
    {
     "name": "stdout",
     "output_type": "stream",
     "text": [
      "Help on class int in module builtins:\n",
      "\n",
      "class int(object)\n",
      " |  int([x]) -> integer\n",
      " |  int(x, base=10) -> integer\n",
      " |  \n",
      " |  Convert a number or string to an integer, or return 0 if no arguments\n",
      " |  are given.  If x is a number, return x.__int__().  For floating point\n",
      " |  numbers, this truncates towards zero.\n",
      " |  \n",
      " |  If x is not a number or if base is given, then x must be a string,\n",
      " |  bytes, or bytearray instance representing an integer literal in the\n",
      " |  given base.  The literal can be preceded by '+' or '-' and be surrounded\n",
      " |  by whitespace.  The base defaults to 10.  Valid bases are 0 and 2-36.\n",
      " |  Base 0 means to interpret the base from the string as an integer literal.\n",
      " |  >>> int('0b100', base=0)\n",
      " |  4\n",
      " |  \n",
      " |  Built-in subclasses:\n",
      " |      bool\n",
      " |  \n",
      " |  Methods defined here:\n",
      " |  \n",
      " |  __abs__(self, /)\n",
      " |      abs(self)\n",
      " |  \n",
      " |  __add__(self, value, /)\n",
      " |      Return self+value.\n",
      " |  \n",
      " |  __and__(self, value, /)\n",
      " |      Return self&value.\n",
      " |  \n",
      " |  __bool__(self, /)\n",
      " |      self != 0\n",
      " |  \n",
      " |  __ceil__(...)\n",
      " |      Ceiling of an Integral returns itself.\n",
      " |  \n",
      " |  __divmod__(self, value, /)\n",
      " |      Return divmod(self, value).\n",
      " |  \n",
      " |  __eq__(self, value, /)\n",
      " |      Return self==value.\n",
      " |  \n",
      " |  __float__(self, /)\n",
      " |      float(self)\n",
      " |  \n",
      " |  __floor__(...)\n",
      " |      Flooring an Integral returns itself.\n",
      " |  \n",
      " |  __floordiv__(self, value, /)\n",
      " |      Return self//value.\n",
      " |  \n",
      " |  __format__(self, format_spec, /)\n",
      " |      Default object formatter.\n",
      " |  \n",
      " |  __ge__(self, value, /)\n",
      " |      Return self>=value.\n",
      " |  \n",
      " |  __getattribute__(self, name, /)\n",
      " |      Return getattr(self, name).\n",
      " |  \n",
      " |  __getnewargs__(self, /)\n",
      " |  \n",
      " |  __gt__(self, value, /)\n",
      " |      Return self>value.\n",
      " |  \n",
      " |  __hash__(self, /)\n",
      " |      Return hash(self).\n",
      " |  \n",
      " |  __index__(self, /)\n",
      " |      Return self converted to an integer, if self is suitable for use as an index into a list.\n",
      " |  \n",
      " |  __int__(self, /)\n",
      " |      int(self)\n",
      " |  \n",
      " |  __invert__(self, /)\n",
      " |      ~self\n",
      " |  \n",
      " |  __le__(self, value, /)\n",
      " |      Return self<=value.\n",
      " |  \n",
      " |  __lshift__(self, value, /)\n",
      " |      Return self<<value.\n",
      " |  \n",
      " |  __lt__(self, value, /)\n",
      " |      Return self<value.\n",
      " |  \n",
      " |  __mod__(self, value, /)\n",
      " |      Return self%value.\n",
      " |  \n",
      " |  __mul__(self, value, /)\n",
      " |      Return self*value.\n",
      " |  \n",
      " |  __ne__(self, value, /)\n",
      " |      Return self!=value.\n",
      " |  \n",
      " |  __neg__(self, /)\n",
      " |      -self\n",
      " |  \n",
      " |  __or__(self, value, /)\n",
      " |      Return self|value.\n",
      " |  \n",
      " |  __pos__(self, /)\n",
      " |      +self\n",
      " |  \n",
      " |  __pow__(self, value, mod=None, /)\n",
      " |      Return pow(self, value, mod).\n",
      " |  \n",
      " |  __radd__(self, value, /)\n",
      " |      Return value+self.\n",
      " |  \n",
      " |  __rand__(self, value, /)\n",
      " |      Return value&self.\n",
      " |  \n",
      " |  __rdivmod__(self, value, /)\n",
      " |      Return divmod(value, self).\n",
      " |  \n",
      " |  __repr__(self, /)\n",
      " |      Return repr(self).\n",
      " |  \n",
      " |  __rfloordiv__(self, value, /)\n",
      " |      Return value//self.\n",
      " |  \n",
      " |  __rlshift__(self, value, /)\n",
      " |      Return value<<self.\n",
      " |  \n",
      " |  __rmod__(self, value, /)\n",
      " |      Return value%self.\n",
      " |  \n",
      " |  __rmul__(self, value, /)\n",
      " |      Return value*self.\n",
      " |  \n",
      " |  __ror__(self, value, /)\n",
      " |      Return value|self.\n",
      " |  \n",
      " |  __round__(...)\n",
      " |      Rounding an Integral returns itself.\n",
      " |      Rounding with an ndigits argument also returns an integer.\n",
      " |  \n",
      " |  __rpow__(self, value, mod=None, /)\n",
      " |      Return pow(value, self, mod).\n",
      " |  \n",
      " |  __rrshift__(self, value, /)\n",
      " |      Return value>>self.\n",
      " |  \n",
      " |  __rshift__(self, value, /)\n",
      " |      Return self>>value.\n",
      " |  \n",
      " |  __rsub__(self, value, /)\n",
      " |      Return value-self.\n",
      " |  \n",
      " |  __rtruediv__(self, value, /)\n",
      " |      Return value/self.\n",
      " |  \n",
      " |  __rxor__(self, value, /)\n",
      " |      Return value^self.\n",
      " |  \n",
      " |  __sizeof__(self, /)\n",
      " |      Returns size in memory, in bytes.\n",
      " |  \n",
      " |  __sub__(self, value, /)\n",
      " |      Return self-value.\n",
      " |  \n",
      " |  __truediv__(self, value, /)\n",
      " |      Return self/value.\n",
      " |  \n",
      " |  __trunc__(...)\n",
      " |      Truncating an Integral returns itself.\n",
      " |  \n",
      " |  __xor__(self, value, /)\n",
      " |      Return self^value.\n",
      " |  \n",
      " |  as_integer_ratio(self, /)\n",
      " |      Return integer ratio.\n",
      " |      \n",
      " |      Return a pair of integers, whose ratio is exactly equal to the original int\n",
      " |      and with a positive denominator.\n",
      " |      \n",
      " |      >>> (10).as_integer_ratio()\n",
      " |      (10, 1)\n",
      " |      >>> (-10).as_integer_ratio()\n",
      " |      (-10, 1)\n",
      " |      >>> (0).as_integer_ratio()\n",
      " |      (0, 1)\n",
      " |  \n",
      " |  bit_length(self, /)\n",
      " |      Number of bits necessary to represent self in binary.\n",
      " |      \n",
      " |      >>> bin(37)\n",
      " |      '0b100101'\n",
      " |      >>> (37).bit_length()\n",
      " |      6\n",
      " |  \n",
      " |  conjugate(...)\n",
      " |      Returns self, the complex conjugate of any int.\n",
      " |  \n",
      " |  to_bytes(self, /, length, byteorder, *, signed=False)\n",
      " |      Return an array of bytes representing an integer.\n",
      " |      \n",
      " |      length\n",
      " |        Length of bytes object to use.  An OverflowError is raised if the\n",
      " |        integer is not representable with the given number of bytes.\n",
      " |      byteorder\n",
      " |        The byte order used to represent the integer.  If byteorder is 'big',\n",
      " |        the most significant byte is at the beginning of the byte array.  If\n",
      " |        byteorder is 'little', the most significant byte is at the end of the\n",
      " |        byte array.  To request the native byte order of the host system, use\n",
      " |        `sys.byteorder' as the byte order value.\n",
      " |      signed\n",
      " |        Determines whether two's complement is used to represent the integer.\n",
      " |        If signed is False and a negative integer is given, an OverflowError\n",
      " |        is raised.\n",
      " |  \n",
      " |  ----------------------------------------------------------------------\n",
      " |  Class methods defined here:\n",
      " |  \n",
      " |  from_bytes(bytes, byteorder, *, signed=False) from builtins.type\n",
      " |      Return the integer represented by the given array of bytes.\n",
      " |      \n",
      " |      bytes\n",
      " |        Holds the array of bytes to convert.  The argument must either\n",
      " |        support the buffer protocol or be an iterable object producing bytes.\n",
      " |        Bytes and bytearray are examples of built-in objects that support the\n",
      " |        buffer protocol.\n",
      " |      byteorder\n",
      " |        The byte order used to represent the integer.  If byteorder is 'big',\n",
      " |        the most significant byte is at the beginning of the byte array.  If\n",
      " |        byteorder is 'little', the most significant byte is at the end of the\n",
      " |        byte array.  To request the native byte order of the host system, use\n",
      " |        `sys.byteorder' as the byte order value.\n",
      " |      signed\n",
      " |        Indicates whether two's complement is used to represent the integer.\n",
      " |  \n",
      " |  ----------------------------------------------------------------------\n",
      " |  Static methods defined here:\n",
      " |  \n",
      " |  __new__(*args, **kwargs) from builtins.type\n",
      " |      Create and return a new object.  See help(type) for accurate signature.\n",
      " |  \n",
      " |  ----------------------------------------------------------------------\n",
      " |  Data descriptors defined here:\n",
      " |  \n",
      " |  denominator\n",
      " |      the denominator of a rational number in lowest terms\n",
      " |  \n",
      " |  imag\n",
      " |      the imaginary part of a complex number\n",
      " |  \n",
      " |  numerator\n",
      " |      the numerator of a rational number in lowest terms\n",
      " |  \n",
      " |  real\n",
      " |      the real part of a complex number\n",
      "\n"
     ]
    }
   ],
   "source": [
    "# we learned that a variable (a single value without variable storage also!) are objects of classes\n",
    "# if we keep in mind that everything in python is handled the object oriented way we understand how variables are stored and used\n",
    "# the interpreter decide what kind of datatype our variable is and create an object from the specific class dynamically\n",
    "# to learn what kind of class function we could use, we need to have a look at the specific class documentation\n",
    "# the builtin function for selecting the class function is help()\n",
    "# it is possible to use help on the class directly, the function, variable or a value\n",
    "help(int)"
   ]
  },
  {
   "cell_type": "code",
   "execution_count": 5,
   "metadata": {},
   "outputs": [
    {
     "name": "stdout",
     "output_type": "stream",
     "text": [
      "Normal: \n",
      " this is a test string\n",
      "function call with capital first letter: \n",
      " This is a test string\n",
      "function call uppercase: \n",
      " THIS IS A TEST STRING\n",
      "function call to upper, and concat the result of upper with a function call swap which returns upper case to lower case: \n",
      " this is a test string\n",
      "function call with capital and swap: \n",
      " tHIS IS A TEST STRING\n"
     ]
    }
   ],
   "source": [
    "# help shows us the docstring documentation of the class/function/variable\n",
    "# under the method section we see a few methods with syntax \"_\" \"_\" \"name\" \"_\" \"_\"\n",
    "# these double underlined functions are special system relevant functions\n",
    "# they are activated with special code instructions, for example if we program\n",
    "# print(my_variable)\n",
    "# the internal __str__ function is called\n",
    "#\n",
    "# my_var1 + my_var2 \n",
    "# the internal __add__ function is called \n",
    "# \n",
    "# function names with a start of 2 underline signs are private and hidden functions and not direct callable\n",
    "# in class context everything with double underline in the beginning is hidden and only accessable inside the class\n",
    "# functions which we are able to use normally start with a normal letter and always have round brackets (with or without parameters)\n",
    "#\n",
    "# functions from an object are callable by typing a dot after the object\n",
    "# this process could explain as a concatination of objects with functions\n",
    "# if we concat a object to a function, the return \"object\" of the function is also able to add a concatination\n",
    "# this codestyle is typically python in oneliner code instruction\n",
    "#\n",
    "# lets have a look to an example\n",
    "my_string_variable = \"this is a test string\"\n",
    "print(\"Normal: \\n\", my_string_variable)\n",
    "\n",
    "print(\"function call with capital first letter: \\n\", my_string_variable.capitalize())\n",
    "print(\"function call uppercase: \\n\", my_string_variable.upper())\n",
    "print(\"function call to upper, and concat the result of upper with a function call swap which returns upper case to lower case: \\n\", my_string_variable.upper().swapcase())\n",
    "\n",
    "print(\"function call with capital and swap: \\n\", my_string_variable.capitalize().swapcase())\n"
   ]
  },
  {
   "cell_type": "code",
   "execution_count": 6,
   "metadata": {},
   "outputs": [],
   "source": [
    "# concatination of functions are very strong and multiple times usable\n",
    "# try to find the limitation of concatination :)\n"
   ]
  },
  {
   "cell_type": "markdown",
   "metadata": {},
   "source": [
    "## a few special datatypes\n",
    "* we already learned a few basic datatypes, with external modules it is also possible to expand the number of datatypes in all ways\n",
    "* special datatypes are normally called as complex\n",
    "* in programming languages complex datatypes are structures with subdatatypes or compound datatypes"
   ]
  },
  {
   "cell_type": "code",
   "execution_count": 7,
   "metadata": {},
   "outputs": [
    {
     "name": "stdout",
     "output_type": "stream",
     "text": [
      "normal list: [1, 2, 'text', 42.42] <class 'list'>\n",
      "after append: [1, 2, 3, 4, 42]\n",
      "tuple list (42, 55, 'GMT', 'zone') <class 'tuple'>\n",
      "set list {0, 17, 4, 20, 'test', 55, 42} <class 'set'>\n",
      "dictionary list: {42: 'test value', 'banana': [1, 2, 3], 'sth.more': {'subthing_1': 42.42, 'subthing_2': 1704}} <class 'dict'>\n"
     ]
    }
   ],
   "source": [
    "# type of lists\n",
    "# if we want to work with lists it is possible to use the list datatype\n",
    "# in python we have a few list objects which are enforced by different brackets\n",
    "# the classical list is enforced by a square bracket\n",
    "# all list keeping objects of other datatypes/variables\n",
    "my_list_1 = [1,2,3,4] # this variable is a normal list, an array\n",
    "my_list_2 = [1,2, \"text\", 42.42] # it is also possible to mix the elements of datatype\n",
    "\n",
    "print(\"normal list:\", my_list_2, type(my_list_2))\n",
    "# standard lists are mutable, that means we are able to directly add more values without overwright the variable\n",
    "# to add a value to the list, we can use .append(value) function\n",
    "my_list_1.append(42)\n",
    "print(\"after append:\",my_list_1)\n",
    "\n",
    "# the second list type we want to have a look on is a tuple\n",
    "# a tuple list is a immutable list datatype\n",
    "# it is also possible to mix the sub datatypes\n",
    "# tuples are enforced by normal brackets\n",
    "my_list_3 = (42, 55, \"GMT\", \"zone\")\n",
    "print(\"tuple list\", my_list_3, type(my_list_3))\n",
    "# we could use a tuple datatype if we want to struct different datatypes to a fix variable\n",
    "# it is also possible to use a tuple for multiple return inside function\n",
    "# for example a gps sensor dataset consist of longitude, latitude, time and height --- the perfect datatype after sensor readout is tuple\n",
    "# tuple lists are not changeable --> immutable, we always need to overwrite our variable or convert back to lists with using the list() function\n",
    "\n",
    "# the third datatype is used in different ways\n",
    "# a set is a unique value list of possible mixed types\n",
    "# a set list is immutable and will keep only unique values\n",
    "# to enforce a set we need to program with curly brackets\n",
    "my_list_4 = {42,55 , 20, 42, \"test\", 17, 0, 4} # keep an eye on 42 its 2 times inside the declaration\n",
    "print(\"set list\", my_list_4, type(my_list_4)) # 42 we see only once\n",
    "# with sets it is also possible to use mathematically set functions like join, innerjoin a.s.o - try it out by yourself :) \n",
    "\n",
    "# sets are very special lists it is also possible to use the set property to expand our posibilities\n",
    "# it is possible to declare a new code block with a \":\" sign... in case of lists the code block instruction is interpreted as a new declaration\n",
    "# inside sets this means it is possible to interprete the value left from the double dot as a unique variable and the part right of the double dot as a value to the variable\n",
    "# this special code instruction is better known as key value list\n",
    "# inside a key value list the key need to be unique (set property), the value could be what ever we want (variable property)\n",
    "my_list_5 = {42: \"test value\", \"banana\":[1,2,3], \"sth.more\":{ \"subthing_1\": 42.42, \"subthing_2\":1704}}\n",
    "print(\"dictionary list:\", my_list_5, type(my_list_5))"
   ]
  },
  {
   "cell_type": "code",
   "execution_count": 8,
   "metadata": {},
   "outputs": [
    {
     "name": "stdout",
     "output_type": "stream",
     "text": [
      "element 1 of list 1: 1\n",
      "last element of list 3 zone\n",
      "first two elements of list 2 [1, 2]\n",
      "set before pop: {0, 17, 4, 20, 'test', 55, 42}\n",
      "pop value: 0\n",
      "set after pop: {17, 4, 20, 'test', 55, 42}\n",
      "dictionary: {42: 'test value', 'banana': [1, 2, 3], 'sth.more': {'subthing_1': 42.42, 'subthing_2': 1704}}\n",
      "keys of dictionary: dict_keys([42, 'banana', 'sth.more'])\n",
      "call a specific key from dictionary: {'subthing_1': 42.42, 'subthing_2': 1704}\n",
      "subdictionary call with listconcat: 1704\n",
      "after adding a new key: {42: 'test value', 'banana': [1, 2, 3], 'sth.more': {'subthing_1': 42.42, 'subthing_2': 1704}, 'new_key': (1, 2, 3, 4, 5)}\n"
     ]
    }
   ],
   "source": [
    "# lists or list variants (datatype that could be a list too) are iterable\n",
    "# iterable means we are able to call an element of a list directly\n",
    "# the list call instruction is a square bracket\n",
    "# with tuples and arrays it is possible to ask for an element by calling the element position\n",
    "# we start counting with 0 that means the first element of a list is called with [0]\n",
    "print(\"element 1 of list 1:\", my_list_1[0]) # the first element of list_1 counting from left to right\n",
    "\n",
    "# it is also possible to call the last element (or first element from the right position)\n",
    "print(\"last element of list 3\", my_list_3[-1])\n",
    "\n",
    "# inside the square bracket it is possible to have a range of values with stepping\n",
    "# for a range of values we need to use the doubledot instruction again\n",
    "# if we want to have \"from value_1 to value_3\" we need to call [0:2] left to right orientation\n",
    "# the stepping is also callable with again a double dot [0:20:2] --> every second value from 0 to 20 element\n",
    "print(\"first two elements of list 2\", my_list_2[:2]) # first two elements of list 2\n",
    "\n",
    "# sets are special list, to call an element of a set we need to use a function\n",
    "# it is only possible to get a set value element by element in order\n",
    "# the function pop will show us the value elementwise\n",
    "# after pop using the value is deleted from the set\n",
    "print(\"set before pop:\", my_list_4)\n",
    "print(\"pop value:\",my_list_4.pop())\n",
    "print(\"set after pop:\",my_list_4)\n",
    "\n",
    "# a dictionary works a little bit different\n",
    "# we are able to call the key value directly on the dictionary\n",
    "# if we using the normal iteration counter (0,1,2,3,...) we get an error\n",
    "# to get values of the dictionary it is necessary to use a function or direct key call\n",
    "print(\"dictionary:\",my_list_5)\n",
    "print(\"keys of dictionary:\",my_list_5.keys())\n",
    "print(\"call a specific key from dictionary:\",my_list_5[\"sth.more\"])\n",
    "\n",
    "# it is also possible to concat list calls if we have a sublist inside a list\n",
    "# because of multiple datatype mix and declaration it is possible to have multidimensional lists\n",
    "# inside our dictionare we have a subdictionary we want to call\n",
    "print(\"subdictionary call with listconcat:\", my_list_5[\"sth.more\"][\"subthing_2\"])\n",
    "\n",
    "# if we want to change a value inside a dictionary we only need to call the keys and declarate new values to the key\n",
    "# it is also possible to add new keys if we calling a non existing key with a declaration\n",
    "my_list_5[\"new_key\"] = (1,2,3,4,5)\n",
    "print(\"after adding a new key:\",my_list_5)\n",
    "\n"
   ]
  },
  {
   "cell_type": "code",
   "execution_count": 9,
   "metadata": {},
   "outputs": [
    {
     "name": "stdout",
     "output_type": "stream",
     "text": [
      "Stringtext: this is a test string\n",
      "first 10 signs: this is a \n",
      "first 10 every second sign: ti sa\n",
      "string readorder from left perspective: gnirts tset a si siht\n"
     ]
    }
   ],
   "source": [
    "# as we remember strings are a special datatypes, list of chars\n",
    "# that means strings are list like objects and iterable\n",
    "# we are able to do a list call on a string too, this helps us if we want to work with strings directly for comparison a.s.o.\n",
    "print(\"Stringtext:\", my_string_variable)\n",
    "print(\"first 10 signs:\",my_string_variable[:10])\n",
    "print(\"first 10 every second sign:\", my_string_variable[:10:2])\n",
    "print(\"string readorder from left perspective:\", my_string_variable[::-1])\n"
   ]
  },
  {
   "cell_type": "code",
   "execution_count": 10,
   "metadata": {},
   "outputs": [
    {
     "name": "stdout",
     "output_type": "stream",
     "text": [
      "{1, 3, 5, 7}\n",
      "{8, 2, 4, 6}\n"
     ]
    }
   ],
   "source": [
    "# as we said with sets we are able to do mathematical operation\n",
    "# example to use set functions\n",
    "my_list_set1 = {1,2,3,4,5,6,7,8}\n",
    "my_list_set2 = {2,4,6,8,10}\n",
    "\n",
    "print(my_list_set1.difference(my_list_set2)) # delta set set1\n",
    "print(my_list_set1.intersection(my_list_set2)) # same in both\n",
    "# a lot more is possible"
   ]
  },
  {
   "cell_type": "markdown",
   "metadata": {},
   "source": [
    "## palindrom check"
   ]
  },
  {
   "cell_type": "code",
   "execution_count": 11,
   "metadata": {},
   "outputs": [
    {
     "name": "stdout",
     "output_type": "stream",
     "text": [
      "original:\n",
      " A man, a plan, a canal: Panama.\n",
      "corrected:\n",
      " amanaplanacanalpanama\n",
      "change readorder:\n",
      " amanaplanacanalpanama\n",
      "is our string a palindrom?\n",
      " True\n"
     ]
    }
   ],
   "source": [
    "# with the knowledge of listcalls and class.function calls we are able to develop a short program\n",
    "# lets develop a short palindrom check\n",
    "# a palindrom is a word or sentence which is the same from both readorders (left to right == right to left - readorder)\n",
    "\n",
    "# first we define a palindrom string\n",
    "my_palin = \"A man, a plan, a canal: Panama.\"\n",
    "print(\"original:\\n\", my_palin)\n",
    "\n",
    "# inside the string we have special characters we need to replace\n",
    "# \",\" - comma; \":\" - doubledot; \".\" - dot; \" \" - whitespace\n",
    "# additional to the replacement we need to lower or uppercase all signs\n",
    "my_corrected_palin = my_palin.replace(\":\",\"\").replace(\",\",\"\").replace(\".\",\"\").replace(\" \",\"\").lower()\n",
    "print(\"corrected:\\n\", my_corrected_palin)\n",
    "\n",
    "# next we need to change the readorder\n",
    "my_changed_readorder_palin = my_corrected_palin[::-1]\n",
    "print(\"change readorder:\\n\", my_changed_readorder_palin)\n",
    "\n",
    "# last we check both variables\n",
    "print(\"is our string a palindrom?\\n\", my_changed_readorder_palin == my_corrected_palin)\n"
   ]
  },
  {
   "cell_type": "markdown",
   "metadata": {},
   "source": [
    "## print syntax\n",
    "* with the print function it is possible to print to our active terminal variables or text\n",
    "* the normal structure inside a string is comma separation of variables, this have an effect that between two variable information a whitespace is automatically added\n",
    "* if we using string concatination we need to ensure that all dataparts are string datatype (need to enforce it to string)\n",
    "* it is also possible to multiply string with a number, if we want to print 3 times \"bla\" we need to program: 3*\"bla\" \n",
    "* if we using string statements it is also possible to use excape commands like backslash n for newline as we see above\n",
    "* sometimes we dont want to do the escape command or we want to fill our string statement with variables\n",
    "* in past python version (< v3.7) it was possible to set placeholder inside a string statement with curly brackets and replace the placeholder with variables and format function usage\n",
    "* today the format function is used if we have dynamically URL calls which are changed depending on what we want - that means we declare a general URL GET request with placeholder, and replace the placeholder with our variables, for example data from different users is cylce call with changing user information\n",
    "* if want to print a string as it is - raw text, it is possible to add a small r infront of the string, this formats a tring to raw text string\n",
    "* since python 3.7 it is possible to format a string as a f-string which let us handle the variable replacement more easy"
   ]
  },
  {
   "cell_type": "code",
   "execution_count": 12,
   "metadata": {},
   "outputs": [
    {
     "name": "stdout",
     "output_type": "stream",
     "text": [
      "1234 \n",
      " 5678\n",
      "formatted printout depends on the docstring: \n",
      " Das ist mein Test Text\n",
      "weitere Zeile\n",
      "                eingerückt mit Tabulator\n",
      "    eingerückt mit Leerzeichen\n",
      "\n",
      "hier drüber ist eine leere Zeile\n",
      "\n"
     ]
    }
   ],
   "source": [
    "# normal string usage with comma separation\n",
    "print(\"1234\", \"\\n\", \"5678\")\n",
    "\n",
    "# a docstring is a string also\n",
    "my_docstring = \"\"\"Das ist mein Test Text\n",
    "weitere Zeile\n",
    "                eingerückt mit Tabulator\n",
    "    eingerückt mit Leerzeichen\n",
    "\n",
    "hier drüber ist eine leere Zeile\n",
    "\"\"\"\n",
    "print(\"formatted printout depends on the docstring: \\n\",my_docstring)\n"
   ]
  },
  {
   "cell_type": "code",
   "execution_count": 13,
   "metadata": {},
   "outputs": [
    {
     "name": "stdout",
     "output_type": "stream",
     "text": [
      "12424242\n"
     ]
    }
   ],
   "source": [
    "# string concatination with string enforcement and calculation\n",
    "print(\"1\" + \"2\" + str(42) * 3)"
   ]
  },
  {
   "cell_type": "code",
   "execution_count": 14,
   "metadata": {},
   "outputs": [
    {
     "name": "stdout",
     "output_type": "stream",
     "text": [
      "Das ist mein Text und an der 42ten Stelle steht eine Variable testname mit Werten\n",
      "Das ist mein Text und an der 42ten Stelle steht eine Variable 42 mit Werten\n",
      "Das ist mein Text und an der 42ten Stelle steht eine Variable testname mit Werten\n",
      "Das ist mein Text und an der testnameten Stelle steht eine Variable 42 mit Werten\n",
      "Das ist mein Text und an der testnameten Stelle steht eine Variable testname mit Werten\n"
     ]
    }
   ],
   "source": [
    "# string replacement of placeholder with format\n",
    "print(\"Das ist mein Text und an der {}ten Stelle steht eine Variable {} mit Werten\".format(42, \"testname\") )\n",
    "print(\"Das ist mein Text und an der {0}ten Stelle steht eine Variable {0} mit Werten\".format(42, \"testname\") )\n",
    "print(\"Das ist mein Text und an der {0}ten Stelle steht eine Variable {1} mit Werten\".format(42, \"testname\") )\n",
    "print(\"Das ist mein Text und an der {1}ten Stelle steht eine Variable {0} mit Werten\".format(42, \"testname\") )\n",
    "print(\"Das ist mein Text und an der {1}ten Stelle steht eine Variable {1} mit Werten\".format(42, \"testname\") )"
   ]
  },
  {
   "cell_type": "code",
   "execution_count": 15,
   "metadata": {},
   "outputs": [
    {
     "name": "stdout",
     "output_type": "stream",
     "text": [
      "Der Button erwartet von dir eine Integer Eingabe. Zum Beispiel: Eingabe = {my_int} mit dem Wert 42.\n",
      "mit einem \\n innerhalb deiner Printanweisung bekommst du eine neue Zeile.\n"
     ]
    }
   ],
   "source": [
    "# string raw text\n",
    "print(r\"Der Button erwartet von dir eine Integer Eingabe. Zum Beispiel: Eingabe = {my_int} mit dem Wert 42.\")\n",
    "print(r\"mit einem \\n innerhalb deiner Printanweisung bekommst du eine neue Zeile.\")"
   ]
  },
  {
   "cell_type": "code",
   "execution_count": 16,
   "metadata": {},
   "outputs": [
    {
     "name": "stdout",
     "output_type": "stream",
     "text": [
      "Meine Variable hat den Wert 99 als Datentyp: <class 'int'>\n"
     ]
    }
   ],
   "source": [
    "# f-string direct replacement of variables inside the string\n",
    "my_int = 99\n",
    "print(f\"Meine Variable hat den Wert {my_int} als Datentyp: {type(my_int)}\")"
   ]
  },
  {
   "cell_type": "markdown",
   "metadata": {},
   "source": [
    "* congratulation you finished this lesson\n",
    "\n",
    "## what we learned\n",
    "* datatypes in python with enforcement\n",
    "* special structured datatypes (lists, dictionary)\n",
    "* using a class function (function calls)\n",
    "* list calls\n",
    "* print syntax\n"
   ]
  }
 ],
 "metadata": {
  "interpreter": {
   "hash": "949777d72b0d2535278d3dc13498b2535136f6dfe0678499012e853ee9abcab1"
  },
  "kernelspec": {
   "display_name": "Python 3.9.7 64-bit",
   "language": "python",
   "name": "python3"
  },
  "language_info": {
   "codemirror_mode": {
    "name": "ipython",
    "version": 3
   },
   "file_extension": ".py",
   "mimetype": "text/x-python",
   "name": "python",
   "nbconvert_exporter": "python",
   "pygments_lexer": "ipython3",
   "version": "3.9.7"
  },
  "orig_nbformat": 4
 },
 "nbformat": 4,
 "nbformat_minor": 2
}
