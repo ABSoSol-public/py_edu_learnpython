{
 "cells": [
  {
   "cell_type": "markdown",
   "metadata": {},
   "source": [
    "# Welcome\n",
    "- this is your first interactive jupyter notebook file\n",
    "- the jupyter notebook inside your visual studio code instance is able to show you how python works\n",
    "- make sure u followed the instructions in 00_*.md file\n",
    "\n",
    "## what is a jupyter notebook\n",
    "- all jupyter notebooks are interactive programming files\n",
    "- u are able to select your own python kernel\n",
    "- sometimes it is necessary to change your environment path variables to ensure that all instructions are linked to the correct installation\n",
    "- inside a jupyter notebook, with all py-extensions you are able to run python code directly\n",
    "- results are rendered inside the notebook file\n",
    "- we recommend that jupyter notebooks are only used for demonstration and experimental development\n",
    "- jupyter notebook consist of cells\n",
    "- a cell is handled with a cell topic like \"markdown\", \"python\", \"raw\", and much more\n",
    "- this cell is a markdown comment cell with possibility of using html syntax for comments\n",
    "- code-cells are marked with your kernel programming language in our case \"python\"\n",
    "- to execute a cell u need to run the execute button on the left of the cell or press shift+enter on your keyboard\n",
    "\n",
    "## default shortcuts inside jupyter notebook\n",
    "- you are able to setup your own shortcuts, inside table below you see a few master commands you should know\n",
    "\n",
    "| shortcut                | description                             |\n",
    "|-------------------------|-----------------------------------------|\n",
    "| shift+enter             | execute a jupyter cell                  |\n",
    "| a (inactive cell mode)  | add new cell above                      |\n",
    "| b (inactive cell mode)  | add new cell below                      |\n",
    "| dd (inactive cell mode) | delete cell                             |\n",
    "| m (inactive cell mode)  | change cell type to markdown            |\n",
    "| y (inactive cell mode)  | change cell type to code                |\n",
    "| esc                     | in write mode change to inactive cell   |\n",
    "\n",
    "\n",
    "\n"
   ]
  },
  {
   "cell_type": "markdown",
   "metadata": {},
   "source": [
    "# Let's start our first Python experiment\n",
    "## some syntax elements"
   ]
  },
  {
   "cell_type": "code",
   "execution_count": 5,
   "metadata": {},
   "outputs": [
    {
     "name": "stdout",
     "output_type": "stream",
     "text": [
      "\n"
     ]
    }
   ],
   "source": [
    "# this is your first code cell with only comments\n",
    "# this is a comment line, only for inline or complete line comment in pyhton syntax\n",
    "\"\"\"\n",
    "    this is a multiline comment or docstring    \n",
    "\"\"\"\n",
    "# docstrings are normally used to explain functions, modules or classes the prefered style is google docstring style\n",
    "# default extension in VSC is Python Docstring Generator for automatically setup docstring style\n",
    "# multiline docstrings are always string variable too, it is possible to use a docstring as a formatted multiline string\n",
    "# if we execute a python code cell, the last guilty code line number will rendered to output renderformat\n",
    "# to avoid a stupid output we need to enter a guilty code line like print nothing\n",
    "print()\n"
   ]
  },
  {
   "cell_type": "code",
   "execution_count": 2,
   "metadata": {},
   "outputs": [],
   "source": [
    "# python is a multiparadigm programming language\n",
    "# multiparadigm means, you are able to code how ever you want: objectoriented, aspect, functional\n",
    "# python does not have a compiler, everything is interpreted\n",
    "# to let python code run, you need an ecosystem (os, kernel instance, ...) and a python interpreter kernel\n",
    "# in unix and linux systems python kernel are normally built-in (follow instruction in 00 to test your python kernel)\n",
    "# if we have a multiparadigm language all pro arguments can turn to con arguments\n",
    "# if everything is allowed we need to handle our code or application with special code fragments and styles\n",
    "# for example variable access is always allowed whether we want or dont want --> its always possible to change our variables\n",
    "# therefore we have a few rules we need to clarify with our team \n",
    "# --> a short guideance to code style is listed inside pep-8 guideline\n",
    "# https://www.python.org/dev/peps/pep-0008/\n",
    "# python code snippets in scripts or notebooks are always written inside the root area of a file\n",
    "# the root area is the complete left part of a line without leading whitespaces\n",
    "# your instructions are in root if your first sign is a codeinstruction\n",
    "# with the activation of a new code block, we need to indent our code\n",
    "# the indentation expect a static style through your complete code, normally we use one tab for a single indentation (4 whitspaces are in default setup 1 tabulator)\n",
    "# code blocks are activated with \":\" during this lesson we will see a few examples\n",
    "# make sure you always start at root level inside your script, otherwise you get an error\n"
   ]
  },
  {
   "cell_type": "markdown",
   "metadata": {},
   "source": [
    "## built-in functions and variables"
   ]
  },
  {
   "cell_type": "code",
   "execution_count": 3,
   "metadata": {},
   "outputs": [],
   "source": [
    "# if u are using VSC (standard setup dark) built-in functions are highlighted in yellow\n",
    "# to learn programming is also learning how to search and how to use documentation\n",
    "# built-in function in Python are functions we are able to use without importing external modules\n",
    "# with these functions we are able to code a few simple programs and scripts\n",
    "# the external documentation depends on the version u are using \n",
    "# in case Python 3.10 u are able to find the documented built in functions: https://docs.python.org/3/library/functions.html\n"
   ]
  },
  {
   "cell_type": "code",
   "execution_count": 4,
   "metadata": {},
   "outputs": [
    {
     "name": "stdout",
     "output_type": "stream",
     "text": [
      "\n"
     ]
    }
   ],
   "source": [
    "# lets have a look at the print function\n",
    "print() # print allows us to stream data or variables to our activated output terminal\n",
    "# inside print it is possible to use Strings, Chars, Numbers, Variables, Functions, a.s.o.\n",
    "# in literature we clasically use hello world programs for our first program"
   ]
  },
  {
   "cell_type": "code",
   "execution_count": 5,
   "metadata": {},
   "outputs": [
    {
     "name": "stdout",
     "output_type": "stream",
     "text": [
      "hello world\n"
     ]
    }
   ],
   "source": [
    "# lets do this in python\n",
    "print(\"hello world\")"
   ]
  },
  {
   "cell_type": "code",
   "execution_count": 6,
   "metadata": {},
   "outputs": [
    {
     "name": "stdout",
     "output_type": "stream",
     "text": [
      "this line is normally inside our render stream\n",
      "this line too\n"
     ]
    },
    {
     "data": {
      "text/plain": [
       "'but this line is shown without print'"
      ]
     },
     "execution_count": 6,
     "metadata": {},
     "output_type": "execute_result"
    }
   ],
   "source": [
    "# inside a notebook the rendered output will show us the string instruction\n",
    "# using notebooks might be a bit confusing sometimes, because it is also possible to type hello world without using print\n",
    "# in cells always the last line will be rendered too, that means if your last line is a variable call without print, we always see the last line inside our output stream\n",
    "print(\"this line is normally inside our render stream\")\n",
    "print(\"this line too\")\n",
    "\"but this line is shown without print\""
   ]
  },
  {
   "cell_type": "code",
   "execution_count": 7,
   "metadata": {},
   "outputs": [],
   "source": [
    "# in Python scripts we need to be carefully\n",
    "# data streams or variables without print instruction could have an effect to our data stream\n",
    "# it is possible to convert a notebook into a Python script file, make sure that u delete \"rendered\" debug statments"
   ]
  },
  {
   "cell_type": "code",
   "execution_count": 10,
   "metadata": {},
   "outputs": [
    {
     "name": "stdout",
     "output_type": "stream",
     "text": [
      "84\n",
      "test test test \n",
      "test 42 12 test:\n",
      "59.04\n",
      "abc\n"
     ]
    }
   ],
   "source": [
    "# inside a print built-in function it is also possible to do some calculation stuff lets see a few examples\n",
    "print(42 + 42) # calculates two integer numbers\n",
    "print(\"test \" * 3) # prints 3 times the string test\n",
    "print(\"test\", 42, 12, \"test:\" ) # print multiple datatypes\n",
    "print(42 + 17.04) # calculate multiple datatypes\n",
    "print(\"a\" + \"b\" + \"c\") # concat strings"
   ]
  },
  {
   "cell_type": "code",
   "execution_count": 12,
   "metadata": {},
   "outputs": [
    {
     "name": "stdout",
     "output_type": "stream",
     "text": [
      "test 42.5\n"
     ]
    }
   ],
   "source": [
    "# inside the print function we see a mixture of datatypes\n",
    "# if we do some calculations, we need to be careful what kind of calculation we want to do\n",
    "# string concatination and calculation could have the same code instruction \"+\"\n",
    "# variable counts in print instruction are separated by \",\" we dont need the datatype of a variable\n",
    "# string calculation with * means to duplicate the string part for example \"test \" * 3 means 3 times \"test \" part\n",
    "# number caclulations are interpreted directly, first we have a calculation second type conversion to string autmatically\n",
    "# the automatically type conversion only works if the datatype or the instruction is not ambiguous\n",
    "# in case we have a string concationation or calculation possible the interpreter will throw an error\n",
    "# to handle this error we need to convert the datatype by ourself with the usage of built-in type conversion\n",
    "print(\"test \" + str(42.5))\n",
    "# print(\"test \" + 1) # this line code will throw an error \"TypeError\""
   ]
  },
  {
   "cell_type": "code",
   "execution_count": 15,
   "metadata": {},
   "outputs": [],
   "source": [
    "# type conversions are possible with all known datatypes\n",
    "# string --> str()\n",
    "# integer --> int()\n",
    "# float --> float()\n",
    "# dictionary --> dict()\n",
    "# list --> list()\n",
    "# set --> set()\n",
    "# boolean --> bool()\n",
    "# ... and much more \n",
    "# the color of the builtin datatype function call is green\n",
    "# sometimes it is necessary to enforce a datatype and make sure the datatype we want is returned"
   ]
  },
  {
   "cell_type": "code",
   "execution_count": 16,
   "metadata": {},
   "outputs": [],
   "source": [
    "# in Python datatypes are normally dynamically handled\n",
    "# we normally dont need to enforce a datatype\n",
    "# this becomes more clear if we have a look at variables\n",
    "my_first_variable = 42 # this is your first variable with the integer number 42"
   ]
  },
  {
   "cell_type": "code",
   "execution_count": 18,
   "metadata": {},
   "outputs": [
    {
     "data": {
      "text/plain": [
       "int"
      ]
     },
     "execution_count": 18,
     "metadata": {},
     "output_type": "execute_result"
    }
   ],
   "source": [
    "# if we want to ask for the datatype, we can use a built-in function called type\n",
    "type(my_first_variable) # this returns the datatype"
   ]
  },
  {
   "cell_type": "code",
   "execution_count": 19,
   "metadata": {},
   "outputs": [
    {
     "name": "stdout",
     "output_type": "stream",
     "text": [
      "<class 'int'>\n"
     ]
    }
   ],
   "source": [
    "# type is also a builtin function but a little bit different colored than our normal builtin functions \"green\" \n",
    "# the type function will call a class constructor of the type class inside builtin class and functions in Python\n",
    "# if we are using our print statement this becomes more clear\n",
    "print(type(my_first_variable))"
   ]
  },
  {
   "cell_type": "code",
   "execution_count": 32,
   "metadata": {},
   "outputs": [
    {
     "name": "stdout",
     "output_type": "stream",
     "text": [
      "6\n"
     ]
    }
   ],
   "source": [
    "# inside Python background everything is nearly working like in object oriented programming languages\n",
    "# now the confusion is complete: But you said Python is a multiparadigm language?\n",
    "# yes it is still multiparadigm, the paradigma of a language does not match with the way of work of a programming language\n",
    "# that means a multiparadigm language means: You are able to code like you want in your coding style\n",
    "# you need to decide which paradigm u want to use inside your codestyle, it is also possible to mix it up\n",
    "# Python language in background is a objectoriented work where scripts and modules are handled like classes\n",
    "# we have internal functions and builtin datastructures\n",
    "# every datatype is an object of a datatype class\n",
    "# and now we see what happens here... our 42 number is an object of the builtin Integerclass but for us still a 42\n",
    "# What are the benefit of this, lets call it code art?\n",
    "# one simple answer --> we are able to use integer functions on our integer variable if we have a class\n",
    "# the idea behind Python is to code simple and easy with a growing community\n",
    "# if we group special functions where we need to use these function we keep them simple\n",
    "# for example if we have typically integer functions, we are able to implement integer functions to an Integer class\n",
    "# that means in background codestyle we need to have it objectoriented\n",
    "# to access our integer functions we need to type a dot after our variable name, search for a functionname and call the function with normal brakets on/off\n",
    "\n",
    "print(my_first_variable.bit_length())  # the . will activate the class for a function call - we calling bit_length special integer builtin function\n",
    "\n",
    "# the bit length function will return the amount of bits we using for representation our 42 in bit-style"
   ]
  },
  {
   "cell_type": "code",
   "execution_count": 22,
   "metadata": {},
   "outputs": [
    {
     "name": "stdout",
     "output_type": "stream",
     "text": [
      "Help on int object:\n",
      "\n",
      "class int(object)\n",
      " |  int([x]) -> integer\n",
      " |  int(x, base=10) -> integer\n",
      " |  \n",
      " |  Convert a number or string to an integer, or return 0 if no arguments\n",
      " |  are given.  If x is a number, return x.__int__().  For floating point\n",
      " |  numbers, this truncates towards zero.\n",
      " |  \n",
      " |  If x is not a number or if base is given, then x must be a string,\n",
      " |  bytes, or bytearray instance representing an integer literal in the\n",
      " |  given base.  The literal can be preceded by '+' or '-' and be surrounded\n",
      " |  by whitespace.  The base defaults to 10.  Valid bases are 0 and 2-36.\n",
      " |  Base 0 means to interpret the base from the string as an integer literal.\n",
      " |  >>> int('0b100', base=0)\n",
      " |  4\n",
      " |  \n",
      " |  Built-in subclasses:\n",
      " |      bool\n",
      " |  \n",
      " |  Methods defined here:\n",
      " |  \n",
      " |  __abs__(self, /)\n",
      " |      abs(self)\n",
      " |  \n",
      " |  __add__(self, value, /)\n",
      " |      Return self+value.\n",
      " |  \n",
      " |  __and__(self, value, /)\n",
      " |      Return self&value.\n",
      " |  \n",
      " |  __bool__(self, /)\n",
      " |      self != 0\n",
      " |  \n",
      " |  __ceil__(...)\n",
      " |      Ceiling of an Integral returns itself.\n",
      " |  \n",
      " |  __divmod__(self, value, /)\n",
      " |      Return divmod(self, value).\n",
      " |  \n",
      " |  __eq__(self, value, /)\n",
      " |      Return self==value.\n",
      " |  \n",
      " |  __float__(self, /)\n",
      " |      float(self)\n",
      " |  \n",
      " |  __floor__(...)\n",
      " |      Flooring an Integral returns itself.\n",
      " |  \n",
      " |  __floordiv__(self, value, /)\n",
      " |      Return self//value.\n",
      " |  \n",
      " |  __format__(self, format_spec, /)\n",
      " |      Default object formatter.\n",
      " |  \n",
      " |  __ge__(self, value, /)\n",
      " |      Return self>=value.\n",
      " |  \n",
      " |  __getattribute__(self, name, /)\n",
      " |      Return getattr(self, name).\n",
      " |  \n",
      " |  __getnewargs__(self, /)\n",
      " |  \n",
      " |  __gt__(self, value, /)\n",
      " |      Return self>value.\n",
      " |  \n",
      " |  __hash__(self, /)\n",
      " |      Return hash(self).\n",
      " |  \n",
      " |  __index__(self, /)\n",
      " |      Return self converted to an integer, if self is suitable for use as an index into a list.\n",
      " |  \n",
      " |  __int__(self, /)\n",
      " |      int(self)\n",
      " |  \n",
      " |  __invert__(self, /)\n",
      " |      ~self\n",
      " |  \n",
      " |  __le__(self, value, /)\n",
      " |      Return self<=value.\n",
      " |  \n",
      " |  __lshift__(self, value, /)\n",
      " |      Return self<<value.\n",
      " |  \n",
      " |  __lt__(self, value, /)\n",
      " |      Return self<value.\n",
      " |  \n",
      " |  __mod__(self, value, /)\n",
      " |      Return self%value.\n",
      " |  \n",
      " |  __mul__(self, value, /)\n",
      " |      Return self*value.\n",
      " |  \n",
      " |  __ne__(self, value, /)\n",
      " |      Return self!=value.\n",
      " |  \n",
      " |  __neg__(self, /)\n",
      " |      -self\n",
      " |  \n",
      " |  __or__(self, value, /)\n",
      " |      Return self|value.\n",
      " |  \n",
      " |  __pos__(self, /)\n",
      " |      +self\n",
      " |  \n",
      " |  __pow__(self, value, mod=None, /)\n",
      " |      Return pow(self, value, mod).\n",
      " |  \n",
      " |  __radd__(self, value, /)\n",
      " |      Return value+self.\n",
      " |  \n",
      " |  __rand__(self, value, /)\n",
      " |      Return value&self.\n",
      " |  \n",
      " |  __rdivmod__(self, value, /)\n",
      " |      Return divmod(value, self).\n",
      " |  \n",
      " |  __repr__(self, /)\n",
      " |      Return repr(self).\n",
      " |  \n",
      " |  __rfloordiv__(self, value, /)\n",
      " |      Return value//self.\n",
      " |  \n",
      " |  __rlshift__(self, value, /)\n",
      " |      Return value<<self.\n",
      " |  \n",
      " |  __rmod__(self, value, /)\n",
      " |      Return value%self.\n",
      " |  \n",
      " |  __rmul__(self, value, /)\n",
      " |      Return value*self.\n",
      " |  \n",
      " |  __ror__(self, value, /)\n",
      " |      Return value|self.\n",
      " |  \n",
      " |  __round__(...)\n",
      " |      Rounding an Integral returns itself.\n",
      " |      Rounding with an ndigits argument also returns an integer.\n",
      " |  \n",
      " |  __rpow__(self, value, mod=None, /)\n",
      " |      Return pow(value, self, mod).\n",
      " |  \n",
      " |  __rrshift__(self, value, /)\n",
      " |      Return value>>self.\n",
      " |  \n",
      " |  __rshift__(self, value, /)\n",
      " |      Return self>>value.\n",
      " |  \n",
      " |  __rsub__(self, value, /)\n",
      " |      Return value-self.\n",
      " |  \n",
      " |  __rtruediv__(self, value, /)\n",
      " |      Return value/self.\n",
      " |  \n",
      " |  __rxor__(self, value, /)\n",
      " |      Return value^self.\n",
      " |  \n",
      " |  __sizeof__(self, /)\n",
      " |      Returns size in memory, in bytes.\n",
      " |  \n",
      " |  __sub__(self, value, /)\n",
      " |      Return self-value.\n",
      " |  \n",
      " |  __truediv__(self, value, /)\n",
      " |      Return self/value.\n",
      " |  \n",
      " |  __trunc__(...)\n",
      " |      Truncating an Integral returns itself.\n",
      " |  \n",
      " |  __xor__(self, value, /)\n",
      " |      Return self^value.\n",
      " |  \n",
      " |  as_integer_ratio(self, /)\n",
      " |      Return integer ratio.\n",
      " |      \n",
      " |      Return a pair of integers, whose ratio is exactly equal to the original int\n",
      " |      and with a positive denominator.\n",
      " |      \n",
      " |      >>> (10).as_integer_ratio()\n",
      " |      (10, 1)\n",
      " |      >>> (-10).as_integer_ratio()\n",
      " |      (-10, 1)\n",
      " |      >>> (0).as_integer_ratio()\n",
      " |      (0, 1)\n",
      " |  \n",
      " |  bit_length(self, /)\n",
      " |      Number of bits necessary to represent self in binary.\n",
      " |      \n",
      " |      >>> bin(37)\n",
      " |      '0b100101'\n",
      " |      >>> (37).bit_length()\n",
      " |      6\n",
      " |  \n",
      " |  conjugate(...)\n",
      " |      Returns self, the complex conjugate of any int.\n",
      " |  \n",
      " |  to_bytes(self, /, length, byteorder, *, signed=False)\n",
      " |      Return an array of bytes representing an integer.\n",
      " |      \n",
      " |      length\n",
      " |        Length of bytes object to use.  An OverflowError is raised if the\n",
      " |        integer is not representable with the given number of bytes.\n",
      " |      byteorder\n",
      " |        The byte order used to represent the integer.  If byteorder is 'big',\n",
      " |        the most significant byte is at the beginning of the byte array.  If\n",
      " |        byteorder is 'little', the most significant byte is at the end of the\n",
      " |        byte array.  To request the native byte order of the host system, use\n",
      " |        `sys.byteorder' as the byte order value.\n",
      " |      signed\n",
      " |        Determines whether two's complement is used to represent the integer.\n",
      " |        If signed is False and a negative integer is given, an OverflowError\n",
      " |        is raised.\n",
      " |  \n",
      " |  ----------------------------------------------------------------------\n",
      " |  Class methods defined here:\n",
      " |  \n",
      " |  from_bytes(bytes, byteorder, *, signed=False) from builtins.type\n",
      " |      Return the integer represented by the given array of bytes.\n",
      " |      \n",
      " |      bytes\n",
      " |        Holds the array of bytes to convert.  The argument must either\n",
      " |        support the buffer protocol or be an iterable object producing bytes.\n",
      " |        Bytes and bytearray are examples of built-in objects that support the\n",
      " |        buffer protocol.\n",
      " |      byteorder\n",
      " |        The byte order used to represent the integer.  If byteorder is 'big',\n",
      " |        the most significant byte is at the beginning of the byte array.  If\n",
      " |        byteorder is 'little', the most significant byte is at the end of the\n",
      " |        byte array.  To request the native byte order of the host system, use\n",
      " |        `sys.byteorder' as the byte order value.\n",
      " |      signed\n",
      " |        Indicates whether two's complement is used to represent the integer.\n",
      " |  \n",
      " |  ----------------------------------------------------------------------\n",
      " |  Static methods defined here:\n",
      " |  \n",
      " |  __new__(*args, **kwargs) from builtins.type\n",
      " |      Create and return a new object.  See help(type) for accurate signature.\n",
      " |  \n",
      " |  ----------------------------------------------------------------------\n",
      " |  Data descriptors defined here:\n",
      " |  \n",
      " |  denominator\n",
      " |      the denominator of a rational number in lowest terms\n",
      " |  \n",
      " |  imag\n",
      " |      the imaginary part of a complex number\n",
      " |  \n",
      " |  numerator\n",
      " |      the numerator of a rational number in lowest terms\n",
      " |  \n",
      " |  real\n",
      " |      the real part of a complex number\n",
      "\n"
     ]
    }
   ],
   "source": [
    "# sometimes we dont know what kind of functions we have inside our class, or what our function will do, or what kind of variable we have\n",
    "# in such a case we could use the builtin help function to ask for an explanation\n",
    "help(my_first_variable)"
   ]
  },
  {
   "cell_type": "code",
   "execution_count": 24,
   "metadata": {},
   "outputs": [],
   "source": [
    "# help will show us the docstring informations inside the class / function / variable / module\n",
    "# we get some descriptions, examples, maybe functions or error descriptions\n",
    "# all information are collectible inside the official documentation an depending on the author of the function\n",
    "# if you are using official and reviewed functions with a big community behind we have more information than inside self_builded functions\n",
    "# all documented function names without leading double underline \"_\" sign are direct callable\n",
    "# double underlined functions are system or internal private functions"
   ]
  },
  {
   "cell_type": "code",
   "execution_count": 31,
   "metadata": {},
   "outputs": [
    {
     "name": "stdout",
     "output_type": "stream",
     "text": [
      "2.0 test ('attack', 42) 815\n",
      "<class 'float'> <class 'str'> <class 'tuple'> <class 'int'>\n"
     ]
    }
   ],
   "source": [
    "# variable names should consost of the information what the variable is used for\n",
    "# if you always use temp_1, temp_2 ... its very hard to understand what the temp variables are created for\n",
    "# its also dangerous if you call a variable like a builtin function\n",
    "# for example if you call a variable print, you overwrite the print function and it is not possible to use the print statement anymore\n",
    "# it is possible to overwrite function names because of multiparadigm properties if multiparadigm allows everything, everything is possible (big con in Python)\n",
    "# if want to have a print variable, we use a prefix \"my\" --> my_print\n",
    "# variable names are case sensitive, cant start with a number but if a number is the second sign it is possible to use\n",
    "# the special character \"_\" is allowed inside variable names or as leading sign for example _2_point_value\n",
    "# lets have a look at a few variable examples\n",
    "_2_point_value = 2.0\n",
    "my_var = \"test\"\n",
    "_enemy_data = \"attack\" , 42 # special multiple datatype called tuple (its a special list)\n",
    "_0_8_15 = 815\n",
    "\n",
    "print(_2_point_value, my_var, _enemy_data, _0_8_15)\n",
    "print(type(_2_point_value), type(my_var), type(_enemy_data), type(_0_8_15))\n"
   ]
  },
  {
   "cell_type": "markdown",
   "metadata": {},
   "source": [
    "## small script for conversion of decimal in binary in decimal"
   ]
  },
  {
   "cell_type": "code",
   "execution_count": 51,
   "metadata": {},
   "outputs": [],
   "source": [
    "my_decimal_variable = 42\n",
    "my_binary_variable = \"11110000\""
   ]
  },
  {
   "cell_type": "code",
   "execution_count": 52,
   "metadata": {},
   "outputs": [
    {
     "name": "stdout",
     "output_type": "stream",
     "text": [
      "String length: 8 conversion to bin: 0b101010 conversion from: 42 how many bit do i need?: 6\n",
      "conversion to int: 240 conversion from: 11110000 how many bit do i need?: 8 \n",
      "our string was added by an extra information '0b' at first to signs, we need to add the substring: \n",
      "correct binary writestyle: 0b11110000\n"
     ]
    }
   ],
   "source": [
    "my_bin_variable = bin(my_decimal_variable) # builtin function bin\n",
    "my_int_variable = int(my_binary_variable, base=2)\n",
    "\n",
    "print(  \"String length:\", \n",
    "        len(my_bin_variable), \n",
    "        \"conversion to bin:\", \n",
    "        my_bin_variable, \n",
    "        \"conversion from:\",\n",
    "        my_decimal_variable,\n",
    "        \"how many bit do i need?:\",\n",
    "        my_decimal_variable.bit_length())\n",
    "\n",
    "print(  \"conversion to int:\", \n",
    "        my_int_variable, \n",
    "        \"conversion from:\",\n",
    "        my_binary_variable,\n",
    "        \"how many bit do i need?:\",\n",
    "        len(my_binary_variable),\n",
    "        \"\\nour string was added by an extra information '0b' at first two signs, we need to add the substring:\",\n",
    "        \"\\n\" + \"correct binary writestyle:\", \"0b\" + str(my_binary_variable))\n",
    "\n",
    "\n",
    "# as we see here it is also possible to newline inside a print statement for better reading\n",
    "# the , operator inserts a whitespace between the variables and strings\n",
    "# if we want to use the + operator we need to add our whitespaces manually and convert the data to string\n",
    "# it is also possible to use escape commands inside a string, \\n is newline command"
   ]
  },
  {
   "cell_type": "markdown",
   "metadata": {},
   "source": [
    "* congratulation you finished this lesson\n",
    "\n",
    "## what we learned\n",
    "* basics in jupyter notebooks\n",
    "* comments in python\n",
    "* built-in functions\n",
    "* declaration of variables\n",
    "* syntax elements in python\n"
   ]
  }
 ],
 "metadata": {
  "interpreter": {
   "hash": "949777d72b0d2535278d3dc13498b2535136f6dfe0678499012e853ee9abcab1"
  },
  "kernelspec": {
   "display_name": "Python 3.9.7 64-bit",
   "name": "python3"
  },
  "language_info": {
   "codemirror_mode": {
    "name": "ipython",
    "version": 3
   },
   "file_extension": ".py",
   "mimetype": "text/x-python",
   "name": "python",
   "nbconvert_exporter": "python",
   "pygments_lexer": "ipython3",
   "version": "3.9.7"
  },
  "orig_nbformat": 4
 },
 "nbformat": 4,
 "nbformat_minor": 2
}
