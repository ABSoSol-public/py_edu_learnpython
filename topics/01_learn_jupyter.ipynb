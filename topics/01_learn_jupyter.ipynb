{
 "cells": [
  {
   "cell_type": "markdown",
   "metadata": {},
   "source": [
    "# Welcome\n",
    "- this is your first interactive jupyter notebook file\n",
    "- the jupyter notebook inside your visual studio code instance is able to show you how python works\n",
    "- make sure u followed the instructions in 00_*.md file\n",
    "\n",
    "## what is a jupyter notebook\n",
    "- all jupyter notebooks are interactive programming files\n",
    "- u are able to select your own python kernel\n",
    "- sometimes it is necessary to change your environment path variables to ensure that all instructions are linked to the correct installation\n",
    "- inside a jupyter notebook, with all py-extensions you are able to run python code directly\n",
    "- results are rendered inside the notebook file\n",
    "- we recommend that jupyter notebooks are only used for demonstration and experimental development\n",
    "- jupyter notebook consist of cells\n",
    "- a cell is handled with a cell topic like \"markdown\", \"python\", \"raw\", and much more\n",
    "- this cell is a markdown comment cell with possibility of using html syntax for comments\n",
    "- code-cells are marked with your kernel programming language in our case \"python\"\n",
    "- to execute a cell u need to run the execute button on the left of the cell or press shift+enter on your keyboard\n",
    "\n",
    "## default shortcuts inside jupyter notebook\n",
    "- you are able to setup your own shortcuts, inside table below you see a few master commands you should know\n",
    "\n",
    "| shortcut                | description                             |\n",
    "|-------------------------|-----------------------------------------|\n",
    "| shift+enter             | execute a jupyter cell                  |\n",
    "| a (inactive cell mode)  | add new cell above                      |\n",
    "| b (inactive cell mode)  | add new cell below                      |\n",
    "| dd (inactive cell mode) | delete cell                             |\n",
    "| m (inactive cell mode)  | change cell type to markdown            |\n",
    "| y (inactive cell mode)  | change cell type to code                |\n",
    "| esc                     | in write mode change to inactive cell   |\n",
    "\n",
    "\n",
    "\n"
   ]
  },
  {
   "cell_type": "code",
   "execution_count": null,
   "metadata": {},
   "outputs": [],
   "source": []
  }
 ],
 "metadata": {
  "interpreter": {
   "hash": "949777d72b0d2535278d3dc13498b2535136f6dfe0678499012e853ee9abcab1"
  },
  "kernelspec": {
   "display_name": "Python 3.9.7 64-bit",
   "name": "python3"
  },
  "language_info": {
   "name": "python",
   "version": "3.9.7"
  },
  "orig_nbformat": 4
 },
 "nbformat": 4,
 "nbformat_minor": 2
}
