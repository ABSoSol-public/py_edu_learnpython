{
 "cells": [
  {
   "cell_type": "markdown",
   "metadata": {},
   "source": [
    "# Welcome\n",
    "- this is your first interactive jupyter notebook file\n",
    "- the jupyter notebook inside your visual studio code instance is able to show you how python works\n",
    "- make sure u followed the instructions in 00_*.md file\n",
    "\n",
    "## what is a jupyter notebook\n",
    "- all jupyter notebooks are interactive programming files\n",
    "- u are able to select your own python kernel\n",
    "- sometimes it is necessary to change your environment path variables to ensure that all instructions are linked to the correct installation\n",
    "- inside a jupyter notebook, with all py-extensions you are able to run python code directly\n",
    "- results are rendered inside the notebook file\n",
    "- we recommend that jupyter notebooks are only used for demonstration and experimental development\n",
    "- jupyter notebook consist of cells\n",
    "- a cell is handled with a cell topic like \"markdown\", \"python\", \"raw\", and much more\n",
    "- this cell is a markdown comment cell with possibility of using html syntax for comments\n",
    "- code-cells are marked with your kernel programming language in our case \"python\"\n",
    "- to execute a cell u need to run the execute button on the left of the cell or press shift+enter on your keyboard\n",
    "\n",
    "## default shortcuts inside jupyter notebook\n",
    "- you are able to setup your own shortcuts, inside table below you see a few master commands you should know\n",
    "\n",
    "| shortcut                | description                             |\n",
    "|-------------------------|-----------------------------------------|\n",
    "| shift+enter             | execute a jupyter cell                  |\n",
    "| a (inactive cell mode)  | add new cell above                      |\n",
    "| b (inactive cell mode)  | add new cell below                      |\n",
    "| dd (inactive cell mode) | delete cell                             |\n",
    "| m (inactive cell mode)  | change cell type to markdown            |\n",
    "| y (inactive cell mode)  | change cell type to code                |\n",
    "| esc                     | in write mode change to inactive cell   |\n",
    "\n",
    "\n",
    "\n"
   ]
  },
  {
   "cell_type": "markdown",
   "metadata": {},
   "source": [
    "# Let's start our first Python experiment\n",
    "## some syntax elements"
   ]
  },
  {
   "cell_type": "code",
   "execution_count": 5,
   "metadata": {},
   "outputs": [
    {
     "name": "stdout",
     "output_type": "stream",
     "text": [
      "\n"
     ]
    }
   ],
   "source": [
    "# this is your first code cell with only comments\n",
    "# this is a comment line, only for inline or complete line comment in pyhton syntax\n",
    "\"\"\"\n",
    "    this is a multiline comment or docstring    \n",
    "\"\"\"\n",
    "# docstrings are normally used to explain functions, modules or classes the prefered style is google docstring style\n",
    "# default extension in VSC is Python Docstring Generator for automatically setup docstring style\n",
    "# multiline docstrings are always string variable too, it is possible to use a docstring as a formatted multiline string\n",
    "# if we execute a python code cell, the last guilty code line number will rendered to output renderformat\n",
    "# to avoid a stupid output we need to enter a guilty code line like print nothing\n",
    "print()\n"
   ]
  },
  {
   "cell_type": "code",
   "execution_count": null,
   "metadata": {},
   "outputs": [],
   "source": []
  }
 ],
 "metadata": {
  "interpreter": {
   "hash": "949777d72b0d2535278d3dc13498b2535136f6dfe0678499012e853ee9abcab1"
  },
  "kernelspec": {
   "display_name": "Python 3.9.7 64-bit",
   "name": "python3"
  },
  "language_info": {
   "codemirror_mode": {
    "name": "ipython",
    "version": 3
   },
   "file_extension": ".py",
   "mimetype": "text/x-python",
   "name": "python",
   "nbconvert_exporter": "python",
   "pygments_lexer": "ipython3",
   "version": "3.9.7"
  },
  "orig_nbformat": 4
 },
 "nbformat": 4,
 "nbformat_minor": 2
}
